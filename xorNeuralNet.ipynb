{
 "cells": [
  {
   "cell_type": "code",
   "execution_count": 1,
   "id": "ae04568c",
   "metadata": {},
   "outputs": [],
   "source": [
    "from typing import Callable"
   ]
  },
  {
   "cell_type": "code",
   "execution_count": 2,
   "id": "6e3cb9f1",
   "metadata": {},
   "outputs": [],
   "source": [
    "Vector = [float]\n",
    "ActivationFunc = Callable[[float],float]"
   ]
  },
  {
   "cell_type": "code",
   "execution_count": 3,
   "id": "e11b3a48",
   "metadata": {},
   "outputs": [],
   "source": [
    "def neuron(inputs: Vector, weights: Vector, activation_func: ActivationFunc) -> float:\n",
    "    return activation_func(\n",
    "        sum(z[0] * z[1] for z in zip([1.0] + inputs, weights))\n",
    "    )"
   ]
  },
  {
   "cell_type": "code",
   "execution_count": 5,
   "id": "df8bd95a",
   "metadata": {},
   "outputs": [],
   "source": [
    "def step(x: float) -> float:\n",
    "    return 1 if x > 0 else 0"
   ]
  },
  {
   "cell_type": "code",
   "execution_count": 6,
   "id": "9ec2eabc",
   "metadata": {},
   "outputs": [
    {
     "name": "stdout",
     "output_type": "stream",
     "text": [
      "[0, 0] 0\n",
      "[1, 0] 1\n",
      "[0, 1] 1\n",
      "[1, 1] 0\n"
     ]
    }
   ],
   "source": [
    "NAND = [1.5, -1, -1]\n",
    "OR = [-0.5, 1, 1]\n",
    "AND = [-1, 1, 1]\n",
    "\n",
    "def xor_net(inputs: Vector) -> float:\n",
    "    return neuron(\n",
    "        inputs=[\n",
    "            neuron(inputs, NAND, step),\n",
    "            neuron(inputs, OR, step)\n",
    "            ],\n",
    "            weights=AND,\n",
    "            activation_func=step\n",
    "    )\n",
    "\n",
    "inputs = [\n",
    "    [0,0],\n",
    "    [1,0],\n",
    "    [0,1],\n",
    "    [1,1]\n",
    "]\n",
    "\n",
    "for i in inputs:\n",
    "    print(i, xor_net(i))"
   ]
  }
 ],
 "metadata": {
  "kernelspec": {
   "display_name": "Python 3 (ipykernel)",
   "language": "python",
   "name": "python3"
  },
  "language_info": {
   "codemirror_mode": {
    "name": "ipython",
    "version": 3
   },
   "file_extension": ".py",
   "mimetype": "text/x-python",
   "name": "python",
   "nbconvert_exporter": "python",
   "pygments_lexer": "ipython3",
   "version": "3.9.7"
  }
 },
 "nbformat": 4,
 "nbformat_minor": 5
}
