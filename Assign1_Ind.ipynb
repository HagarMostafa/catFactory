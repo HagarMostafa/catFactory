{
 "cells": [
  {
   "cell_type": "code",
   "execution_count": 8,
   "id": "ba442ceb",
   "metadata": {},
   "outputs": [],
   "source": [
    "import random\n",
    "import math"
   ]
  },
  {
   "cell_type": "code",
   "execution_count": 19,
   "id": "7a84a4d0",
   "metadata": {},
   "outputs": [],
   "source": [
    "import csv\n",
    "\n",
    "x = []\n",
    "y = []\n",
    "vx = []\n",
    "vy = []\n",
    "with open('ce889_dataCollectionN.csv', 'r') as csv_file:\n",
    "    csv_reader = csv.reader(csv_file, delimiter=\",\")\n",
    "    for line in csv_reader:\n",
    "        x.append(float(line[0]))\n",
    "        y.append(float(line[1]))\n",
    "        vx.append(float(line[2]))\n",
    "        vy.append(float(line[3]))"
   ]
  },
  {
   "cell_type": "code",
   "execution_count": 21,
   "id": "9a493d62",
   "metadata": {},
   "outputs": [],
   "source": [
    "class neuron:\n",
    "    def __init__(self, av, no_of_weights, position):\n",
    "        self.av = av\n",
    "        self.weights = no_of_weights\n",
    "\n",
    "    def sigmoid(self, total):\n",
    "        sig = 1 / (1 + math.exp(-total))\n",
    "        return sig\n",
    "\n",
    "    def multWeights(self, prev_layer, index):\n",
    "        total = 0\n",
    "        for i in range(0, len(prev_layer)):\n",
    "            total = total + float(\n",
    "                prev_layer[i].av) * prev_layer[i].weights[index]\n",
    "\n",
    "            self.av = self.sigmoid(total)\n"
   ]
  },
  {
   "cell_type": "code",
   "execution_count": 22,
   "id": "b627a519",
   "metadata": {},
   "outputs": [],
   "source": [
    "i_layer = [neuron(0, 2, 0), neuron(0, 2, 1)]\n",
    "h_layer = [neuron(0, 1, 0), neuron(0, 1, 1)]\n",
    "o_layer = [neuron(0, 0, 0)]\n",
    "\n",
    "i_layer[0].weights = [-5.1, -4.3]\n",
    "i_layer[1].weights = [5.2, 4.0]\n",
    "\n",
    "h_layer[0].weights = [-6.0]\n",
    "h_layer[1].weights = [6.5]"
   ]
  },
  {
   "cell_type": "code",
   "execution_count": 23,
   "id": "85b2d2fe",
   "metadata": {},
   "outputs": [],
   "source": [
    "def feedForward(inputs):\n",
    "    result = []\n",
    "    for i in range(0, len(inputs)):\n",
    "        i_layer[i].av = inputs[i]\n",
    "\n",
    "    for i in range(0, len(h_layer) - 1):\n",
    "        h_layer[i].multWeights(i_layer, i)\n",
    "\n",
    "    o_layer[0].multWeights(h_layer, 0)\n",
    "    result.append(o_layer[0].av)\n",
    "\n",
    "    return result\n",
    "inputs = list(zip(x,y))\n",
    "for i in inputs :\n",
    "    feedForward(i)"
   ]
  },
  {
   "cell_type": "code",
   "execution_count": null,
   "id": "a3aa2918",
   "metadata": {},
   "outputs": [
    {
     "ename": "SyntaxError",
     "evalue": "invalid syntax (<ipython-input-7-df156596b1e1>, line 4)",
     "output_type": "error",
     "traceback": [
      "\u001b[1;36m  File \u001b[1;32m\"<ipython-input-7-df156596b1e1>\"\u001b[1;36m, line \u001b[1;32m4\u001b[0m\n\u001b[1;33m    o_layer[0].grad_val = lambda * o_layer[0].av * (1 - o_layer[0].av) * error[0]\u001b[0m\n\u001b[1;37m                                          ^\u001b[0m\n\u001b[1;31mSyntaxError\u001b[0m\u001b[1;31m:\u001b[0m invalid syntax\n"
     ]
    }
   ],
   "source": [
    "def BackProp(outputs):\n",
    "    \n",
    "    error[0] = outputs[0] - o_layer[0].av\n",
    "    o_layer[0].grad_val = lambda * o_layer[0].av * (1 - o_layer[0].av) * error[0]\n",
    "    o_layer[1].grad_val = lambda * o_layer[1].av * (1 - o_layer[1].av) * error[1]\n",
    "    \n",
    "    for i in range(0, len(outputs)):\n",
    "        h_layer[0].grad_val = lambda * h_layer[0].av * (1 - h_layer[0].av) * ((o_layer[i].grad_val * h_layer[i].weights[i]) + (o_layer[i+1].grad_val * h_layer[i].weights[i+1]))\n",
    "        h_layer[1].grad_val = lambda * h_layer[1].av * (1 - h_layer[1].av) * ((o_layer[i+1].grad_val * h_layer[i+1].weights[i+1]) + (o_layer[i+2].grad_val * h_layer[i+1].weights[i+2]))\n",
    "    \n",
    "    for i in range(0, len(outputs)):\n",
    "        h_layer[0].delta_weight[0] = lR * o_layer[0].grad_val * h_layer[0].av + momentum * h_layer[i].delta_weight[i]\n",
    "    \n",
    "    "
   ]
  },
  {
   "cell_type": "code",
   "execution_count": null,
   "id": "efb64d6a",
   "metadata": {},
   "outputs": [],
   "source": []
  }
 ],
 "metadata": {
  "kernelspec": {
   "display_name": "Python 3 (ipykernel)",
   "language": "python",
   "name": "python3"
  },
  "language_info": {
   "codemirror_mode": {
    "name": "ipython",
    "version": 3
   },
   "file_extension": ".py",
   "mimetype": "text/x-python",
   "name": "python",
   "nbconvert_exporter": "python",
   "pygments_lexer": "ipython3",
   "version": "3.9.7"
  }
 },
 "nbformat": 4,
 "nbformat_minor": 5
}
