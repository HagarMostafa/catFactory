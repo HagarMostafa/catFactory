{
 "cells": [
  {
   "cell_type": "markdown",
   "id": "3013b484",
   "metadata": {},
   "source": [
    "Variables:\n",
    "✅• Inputs\n",
    "✅• Hidden layer\n",
    "✅• Output layer\n",
    "✅• Output Weights for every node(neuron)\n",
    "• Delta Weights\n",
    "• Hidden gradients\n",
    "\n",
    "Functions:\n",
    "✅• Activation Functions\n",
    "✅• Derivative of Activation Functions\n",
    "• Weight Update\n",
    "• Backpropagation\n",
    "• Error Calculation\n",
    "\n",
    "Set the parameters of the NN\n",
    "✅•Network size\n",
    "• Learning rate momentum\n",
    "2.Initialize\n",
    "✅• Data\n",
    "✅• Weights – randomly between -1,1\n",
    "• Dealt weights, error\n",
    "3.Train\n",
    "✅•Feed forward\n",
    "• Calculate the error\n",
    "• Backpropagation and weight update\n",
    "-Calculate local output gradients and delta output weights\n",
    "-Calculate local hidden gradients and delta hidden weights\n",
    "4.Calculate the epoch error return to step 3\n"
   ]
  },
  {
   "cell_type": "markdown",
   "id": "7c97834f",
   "metadata": {},
   "source": [
    "## Abstraction\n",
    "✅• reusable\n"
   ]
  },
  {
   "cell_type": "markdown",
   "id": "f64d5659",
   "metadata": {},
   "source": [
    "## Tooling( automation)\n",
    "✅• reusable \n",
    "✅• reliable(isolate errors) avoid domino effect"
   ]
  },
  {
   "cell_type": "code",
   "execution_count": null,
   "id": "abcce5ba",
   "metadata": {},
   "outputs": [],
   "source": [
    "hidden_layer = [\n",
    "    {'weights':[\n",
    "        random() for i in range(n_inputs + 1)\n",
    "    ]} for i in range(n_hidden)\n",
    "]"
   ]
  },
  {
   "cell_type": "code",
   "execution_count": null,
   "id": "d67bc613",
   "metadata": {},
   "outputs": [],
   "source": [
    "for i in range (n_hidden):\n",
    "    for i in range(n_inputs + 1):\n",
    "      weights[i] = random()"
   ]
  },
  {
   "cell_type": "markdown",
   "id": "745c125c",
   "metadata": {},
   "source": [
    "y=mx+b"
   ]
  },
  {
   "cell_type": "code",
   "execution_count": null,
   "id": "f36f9950",
   "metadata": {},
   "outputs": [],
   "source": [
    "def activate(weights, inputs):\n",
    "    activation = weights[-1]\n",
    "    for i in range(len(weights)-1):\n",
    "        activation += weights[i] * inputs[i]\n",
    "    return activation"
   ]
  }
 ],
 "metadata": {
  "kernelspec": {
   "display_name": "Python 3 (ipykernel)",
   "language": "python",
   "name": "python3"
  },
  "language_info": {
   "codemirror_mode": {
    "name": "ipython",
    "version": 3
   },
   "file_extension": ".py",
   "mimetype": "text/x-python",
   "name": "python",
   "nbconvert_exporter": "python",
   "pygments_lexer": "ipython3",
   "version": "3.9.7"
  }
 },
 "nbformat": 4,
 "nbformat_minor": 5
}
